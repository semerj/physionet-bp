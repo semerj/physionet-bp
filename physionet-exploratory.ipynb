{
 "cells": [
  {
   "cell_type": "code",
   "execution_count": 1,
   "metadata": {
    "collapsed": false
   },
   "outputs": [],
   "source": [
    "import re\n",
    "import os\n",
    "import glob\n",
    "import csv\n",
    "import datetime\n",
    "import urllib.request\n",
    "import pandas as pd\n",
    "import matplotlib.pyplot as plt\n",
    "%matplotlib inline"
   ]
  },
  {
   "cell_type": "markdown",
   "metadata": {},
   "source": [
    "# 1. Select Patients Treated w/ vasodilators/vasoconstrictors from MIMIC II (Multiparameter Intelligent Monitoring in Intensive Care) Clinical Database\n",
    "\n",
    "MIMIC II Clinical database: (https://physionet.org/works/MIMICIIClinicalDatabase/files/)\n",
    "\n",
    "MIMIC II Waveform Matched Subset database (550 GB): (https://www.physionet.org/physiobank/database/mimic2wdb/matched/).\n",
    "\n",
    "For each of the patient (there are 3000+ of patients), there are multiple text files. \n",
    "\n",
    "**Files of interest:**\n",
    "\n",
    "* MEDEVENTS\n",
    "* ADDITIVES\n",
    "* PEO_MED\n",
    "* POE_ORDER\n",
    "* DEMOGRAPHIC_DETAIL.\n",
    "\n",
    "**Medications of interest:**\n",
    "\n",
    "1. vasodilators:\n",
    "    * nitroglycerine-k (121)\n",
    "    * nitroglycerine (49)\n",
    "    * nitroprussid (50)\n",
    "2. vasoconstrictors: \n",
    "    * neosynephrine-k (128)\n",
    "    * epinephrine-k (119)\n",
    "    * neosyneprine (127)\n",
    "    * epinephrine drip (309)\n",
    "    * dobutamine (42)\n",
    "    * epinephrine (44)"
   ]
  },
  {
   "cell_type": "markdown",
   "metadata": {},
   "source": [
    "It's better to search the name of all the interested drugs in the file POE_MED or POE_ORDER"
   ]
  },
  {
   "cell_type": "code",
   "execution_count": 2,
   "metadata": {
    "collapsed": true
   },
   "outputs": [],
   "source": [
    "POE_MED = glob.glob(\"./data/00/*/POE_MED*\")\n",
    "POE_ORDER = glob.glob(\"./data/00/*/POE_ORDER*\")"
   ]
  },
  {
   "cell_type": "markdown",
   "metadata": {},
   "source": [
    "In the MEDEVENTS file, the drugs are represented by the codes in the parethesis."
   ]
  },
  {
   "cell_type": "code",
   "execution_count": 3,
   "metadata": {
    "collapsed": true
   },
   "outputs": [],
   "source": [
    "MEDEVENTS = glob.glob(\"./data/00/*/MEDEVENTS*\")"
   ]
  },
  {
   "cell_type": "markdown",
   "metadata": {},
   "source": [
    "For each of the patient treated with either vasodilators or vasoconstrictors, we may need to merge those files together at a later stage. For example, we merge POE_MED with POE_ORDER to get the duration and dose of nitroglycerine in one file, after we decide to pick the record of specific patient. We can discuss about this merge when we meet next time."
   ]
  },
  {
   "cell_type": "markdown",
   "metadata": {},
   "source": [
    "### Function to read and merge clinical data CSVs"
   ]
  },
  {
   "cell_type": "code",
   "execution_count": 4,
   "metadata": {
    "collapsed": false
   },
   "outputs": [],
   "source": [
    "def read_csvs(file_list):\n",
    "    data = []\n",
    "    header_saved = False\n",
    "    for file in file_list:\n",
    "        # skip empty files\n",
    "        if os.stat(file).st_size != 0:\n",
    "            with open(file, 'r') as f:\n",
    "                reader = csv.reader(f)\n",
    "                header = ['DIR_NAME'] + next(reader, None)\n",
    "                # keep only the first header\n",
    "                if not header_saved:\n",
    "                    data.append(header)\n",
    "                    header_saved = True\n",
    "                for line in reader:\n",
    "                    fname = file.split('/')[3]\n",
    "                    data.append([fname] + line)\n",
    "    return data"
   ]
  },
  {
   "cell_type": "code",
   "execution_count": 5,
   "metadata": {
    "collapsed": false
   },
   "outputs": [],
   "source": [
    "drugs = read_csvs(POE_MED)\n",
    "medev = read_csvs(MEDEVENTS)\n",
    "orders = read_csvs(POE_ORDER)\n",
    "\n",
    "df_orders = pd.DataFrame(orders[1:], columns=orders[0])\n",
    "df_medev = pd.DataFrame(medev[1:], columns=medev[0])\n",
    "df_drugs = pd.DataFrame(drugs[1:], columns=drugs[0])"
   ]
  },
  {
   "cell_type": "markdown",
   "metadata": {},
   "source": [
    "### Filter by drugs of interest"
   ]
  },
  {
   "cell_type": "code",
   "execution_count": 6,
   "metadata": {
    "collapsed": true
   },
   "outputs": [],
   "source": [
    "vasodilators = '|'.join(['nitroglycerin', 'nitroprussid'])\n",
    "vasoconstrictors = '|'.join(['neosynephrine', 'epinephrine', 'neosyneprine', 'epinephrine drip', 'dobutamine', 'dobutamine'])\n",
    "\n",
    "vasoconstrictor_index = df_drugs.DRUG_NAME_GENERIC.str.contains(vasoconstrictors, case=False)\n",
    "vasodilator_index = df_drugs.DRUG_NAME_GENERIC.str.contains(vasodilators, case=False)\n",
    "\n",
    "df_vasoconstrictor = df_drugs[vasoconstrictor_index]\n",
    "df_vasodilator = df_drugs[vasodilator_index]"
   ]
  },
  {
   "cell_type": "markdown",
   "metadata": {},
   "source": [
    "# 2. Merge clinical data with MIMIC II Wafeform Matched Subset"
   ]
  },
  {
   "cell_type": "markdown",
   "metadata": {},
   "source": [
    "The next task is to merge the selected clinical data with the MIMIC II Waveform Matched Subset. This is free access, but very large if we wish to download all. The description page has some codes for downloading, but I don't know if you can expand the code to add some query. \n",
    "\n",
    "To visualize the waveform data, you can go to [PhysioNet ATM](https://www.physionet.org/cgi-bin/atm/ATM) and go to the Input database drop down menu and click MIMIC II Waveform Matched Subset (mimic2wdb/matched) and choose the samples in the below drop down menu. To merge the subset with the clinical data, I believe there is a subject_id that is shared by both. I was told we also need to align the time of different data files. Yes, the cleanup itself is a lot of work!"
   ]
  },
  {
   "cell_type": "markdown",
   "metadata": {},
   "source": [
    "### Download waveform record names that have been matched with clinical records"
   ]
  },
  {
   "cell_type": "code",
   "execution_count": 7,
   "metadata": {
    "collapsed": true
   },
   "outputs": [],
   "source": [
    "# RECORDS_waveforms = 'https://www.physionet.org/physiobank/database/mimic2wdb/matched/RECORDS-waveforms'\n",
    "\n",
    "# with urllib.request.urlopen(RECORDS_waveforms) as response:\n",
    "#    html = response.readlines()\n",
    "\n",
    "# with open('RECORDS_waveforms.txt', 'w') as f:\n",
    "#     for line in html:\n",
    "#         f.write(str(line)[2:-3] + '\\n')"
   ]
  },
  {
   "cell_type": "code",
   "execution_count": 8,
   "metadata": {
    "collapsed": false
   },
   "outputs": [],
   "source": [
    "RECORDS_waveforms = open('./data/RECORDS_waveforms.txt', 'r').readlines()\n",
    "matched_waveform_codes = [x.split('/')[0][1:] for x in RECORDS_waveforms]"
   ]
  },
  {
   "cell_type": "markdown",
   "metadata": {},
   "source": [
    "### Filter patients that have waveform data available that also had a vasoconstrictor/vasodilator"
   ]
  },
  {
   "cell_type": "code",
   "execution_count": 9,
   "metadata": {
    "collapsed": false
   },
   "outputs": [
    {
     "data": {
      "text/html": [
       "<div>\n",
       "<table border=\"1\" class=\"dataframe\">\n",
       "  <thead>\n",
       "    <tr style=\"text-align: right;\">\n",
       "      <th></th>\n",
       "      <th>DIR_NAME</th>\n",
       "      <th>POE_ID</th>\n",
       "      <th>DRUG_TYPE</th>\n",
       "      <th>DRUG_NAME</th>\n",
       "      <th>DRUG_NAME_GENERIC</th>\n",
       "      <th>PROD_STRENGTH</th>\n",
       "      <th>FORM_RX</th>\n",
       "      <th>DOSE_VAL_RX</th>\n",
       "      <th>DOSE_UNIT_RX</th>\n",
       "      <th>FORM_VAL_DISP</th>\n",
       "      <th>FORM_UNIT_DISP</th>\n",
       "      <th>DOSE_VAL_DISP</th>\n",
       "      <th>DOSE_UNIT_DISP</th>\n",
       "      <th>DOSE_RANGE_OVERRIDE</th>\n",
       "    </tr>\n",
       "  </thead>\n",
       "  <tbody>\n",
       "    <tr>\n",
       "      <th>11745</th>\n",
       "      <td>00177</td>\n",
       "      <td>1080930</td>\n",
       "      <td>MAIN</td>\n",
       "      <td>Lidocaine 0.5%/Epinephrine</td>\n",
       "      <td>Lidocaine 0.5%/Epinephrine</td>\n",
       "      <td>50ML VIAL</td>\n",
       "      <td></td>\n",
       "      <td>1</td>\n",
       "      <td>ml</td>\n",
       "      <td>1</td>\n",
       "      <td>VIAL</td>\n",
       "      <td></td>\n",
       "      <td></td>\n",
       "      <td></td>\n",
       "    </tr>\n",
       "    <tr>\n",
       "      <th>25285</th>\n",
       "      <td>00402</td>\n",
       "      <td>4696794</td>\n",
       "      <td>MAIN</td>\n",
       "      <td>Lidocaine 1%/Epinephrine 1:100000</td>\n",
       "      <td>Lidocaine 1%/Epinephrine 1:100000</td>\n",
       "      <td>20mL Vial</td>\n",
       "      <td></td>\n",
       "      <td>5</td>\n",
       "      <td>ml</td>\n",
       "      <td>0.25</td>\n",
       "      <td>VIAL</td>\n",
       "      <td></td>\n",
       "      <td></td>\n",
       "      <td></td>\n",
       "    </tr>\n",
       "  </tbody>\n",
       "</table>\n",
       "</div>"
      ],
      "text/plain": [
       "      DIR_NAME   POE_ID DRUG_TYPE                          DRUG_NAME  \\\n",
       "11745    00177  1080930      MAIN         Lidocaine 0.5%/Epinephrine   \n",
       "25285    00402  4696794      MAIN  Lidocaine 1%/Epinephrine 1:100000   \n",
       "\n",
       "                       DRUG_NAME_GENERIC PROD_STRENGTH FORM_RX DOSE_VAL_RX  \\\n",
       "11745         Lidocaine 0.5%/Epinephrine     50ML VIAL                   1   \n",
       "25285  Lidocaine 1%/Epinephrine 1:100000     20mL Vial                   5   \n",
       "\n",
       "      DOSE_UNIT_RX FORM_VAL_DISP FORM_UNIT_DISP DOSE_VAL_DISP DOSE_UNIT_DISP  \\\n",
       "11745           ml             1           VIAL                                \n",
       "25285           ml          0.25           VIAL                                \n",
       "\n",
       "      DOSE_RANGE_OVERRIDE  \n",
       "11745                      \n",
       "25285                      "
      ]
     },
     "execution_count": 9,
     "metadata": {},
     "output_type": "execute_result"
    }
   ],
   "source": [
    "df_vasoconstrictor[df_vasoconstrictor.DIR_NAME.isin(matched_waveform_codes)]"
   ]
  },
  {
   "cell_type": "code",
   "execution_count": 10,
   "metadata": {
    "collapsed": false
   },
   "outputs": [
    {
     "data": {
      "text/html": [
       "<div>\n",
       "<table border=\"1\" class=\"dataframe\">\n",
       "  <thead>\n",
       "    <tr style=\"text-align: right;\">\n",
       "      <th></th>\n",
       "      <th>DIR_NAME</th>\n",
       "      <th>POE_ID</th>\n",
       "      <th>DRUG_TYPE</th>\n",
       "      <th>DRUG_NAME</th>\n",
       "      <th>DRUG_NAME_GENERIC</th>\n",
       "      <th>PROD_STRENGTH</th>\n",
       "      <th>FORM_RX</th>\n",
       "      <th>DOSE_VAL_RX</th>\n",
       "      <th>DOSE_UNIT_RX</th>\n",
       "      <th>FORM_VAL_DISP</th>\n",
       "      <th>FORM_UNIT_DISP</th>\n",
       "      <th>DOSE_VAL_DISP</th>\n",
       "      <th>DOSE_UNIT_DISP</th>\n",
       "      <th>DOSE_RANGE_OVERRIDE</th>\n",
       "    </tr>\n",
       "  </thead>\n",
       "  <tbody>\n",
       "    <tr>\n",
       "      <th>11692</th>\n",
       "      <td>00177</td>\n",
       "      <td>1011023</td>\n",
       "      <td>MAIN</td>\n",
       "      <td>Nitroglycerin SL</td>\n",
       "      <td>Nitroglycerin SL</td>\n",
       "      <td>0.4MG SL TAB</td>\n",
       "      <td></td>\n",
       "      <td>0.4</td>\n",
       "      <td>mg</td>\n",
       "      <td>1</td>\n",
       "      <td>TAB</td>\n",
       "      <td></td>\n",
       "      <td></td>\n",
       "      <td></td>\n",
       "    </tr>\n",
       "    <tr>\n",
       "      <th>11693</th>\n",
       "      <td>00177</td>\n",
       "      <td>1011024</td>\n",
       "      <td>MAIN</td>\n",
       "      <td>Nitroglycerin Oint. 2%</td>\n",
       "      <td>Nitroglycerin Oint. 2%</td>\n",
       "      <td>30g Tube</td>\n",
       "      <td></td>\n",
       "      <td>1</td>\n",
       "      <td>in</td>\n",
       "      <td>0.01</td>\n",
       "      <td>TUBE</td>\n",
       "      <td></td>\n",
       "      <td></td>\n",
       "      <td></td>\n",
       "    </tr>\n",
       "    <tr>\n",
       "      <th>20836</th>\n",
       "      <td>00328</td>\n",
       "      <td>93149</td>\n",
       "      <td>MAIN</td>\n",
       "      <td>Nitroglycerin SL</td>\n",
       "      <td>Nitroglycerin SL</td>\n",
       "      <td>0.3MG SL TAB</td>\n",
       "      <td>TAB</td>\n",
       "      <td>0.3</td>\n",
       "      <td>mg</td>\n",
       "      <td>1</td>\n",
       "      <td>TAB</td>\n",
       "      <td>.30000001192092896</td>\n",
       "      <td>mg</td>\n",
       "      <td></td>\n",
       "    </tr>\n",
       "    <tr>\n",
       "      <th>23440</th>\n",
       "      <td>00368</td>\n",
       "      <td>663618</td>\n",
       "      <td>MAIN</td>\n",
       "      <td>Nitroglycerin SL</td>\n",
       "      <td>Nitroglycerin SL</td>\n",
       "      <td>0.3MG SL TAB</td>\n",
       "      <td></td>\n",
       "      <td>0.3</td>\n",
       "      <td>mg</td>\n",
       "      <td>1</td>\n",
       "      <td>TAB</td>\n",
       "      <td></td>\n",
       "      <td></td>\n",
       "      <td></td>\n",
       "    </tr>\n",
       "    <tr>\n",
       "      <th>27612</th>\n",
       "      <td>00427</td>\n",
       "      <td>345299</td>\n",
       "      <td>MAIN</td>\n",
       "      <td>Nitroglycerin SL</td>\n",
       "      <td>Nitroglycerin SL</td>\n",
       "      <td>0.3MG SL TAB</td>\n",
       "      <td>TAB</td>\n",
       "      <td>0.3</td>\n",
       "      <td>mg</td>\n",
       "      <td>1</td>\n",
       "      <td>TAB</td>\n",
       "      <td>.30000001</td>\n",
       "      <td>mg</td>\n",
       "      <td></td>\n",
       "    </tr>\n",
       "    <tr>\n",
       "      <th>31967</th>\n",
       "      <td>00491</td>\n",
       "      <td>429759</td>\n",
       "      <td>MAIN</td>\n",
       "      <td>Nitroglycerin SL</td>\n",
       "      <td>Nitroglycerin SL</td>\n",
       "      <td>0.3MG SL TAB</td>\n",
       "      <td>TAB</td>\n",
       "      <td>0.3</td>\n",
       "      <td>mg</td>\n",
       "      <td>1</td>\n",
       "      <td>TAB</td>\n",
       "      <td>.30000001</td>\n",
       "      <td>mg</td>\n",
       "      <td></td>\n",
       "    </tr>\n",
       "    <tr>\n",
       "      <th>42230</th>\n",
       "      <td>00682</td>\n",
       "      <td>1647112</td>\n",
       "      <td>MAIN</td>\n",
       "      <td>Nitroglycerin Oint. 2%</td>\n",
       "      <td>Nitroglycerin Oint. 2%</td>\n",
       "      <td>1 gm Packet</td>\n",
       "      <td></td>\n",
       "      <td>1</td>\n",
       "      <td>in</td>\n",
       "      <td>1</td>\n",
       "      <td>PKT</td>\n",
       "      <td></td>\n",
       "      <td></td>\n",
       "      <td></td>\n",
       "    </tr>\n",
       "    <tr>\n",
       "      <th>43537</th>\n",
       "      <td>00703</td>\n",
       "      <td>534862</td>\n",
       "      <td>MAIN</td>\n",
       "      <td>Nitroglycerin SL</td>\n",
       "      <td>Nitroglycerin SL</td>\n",
       "      <td>0.3MG SL TAB</td>\n",
       "      <td>TAB</td>\n",
       "      <td>0.3</td>\n",
       "      <td>mg</td>\n",
       "      <td>1</td>\n",
       "      <td>TAB</td>\n",
       "      <td>.30000001</td>\n",
       "      <td>mg</td>\n",
       "      <td></td>\n",
       "    </tr>\n",
       "    <tr>\n",
       "      <th>50704</th>\n",
       "      <td>00801</td>\n",
       "      <td>4043858</td>\n",
       "      <td>MAIN</td>\n",
       "      <td>Nitroglycerin SL</td>\n",
       "      <td>Nitroglycerin SL</td>\n",
       "      <td>0.3mg SL Tablet Bottle</td>\n",
       "      <td></td>\n",
       "      <td>0.3</td>\n",
       "      <td>mg</td>\n",
       "      <td>1</td>\n",
       "      <td>TAB</td>\n",
       "      <td></td>\n",
       "      <td></td>\n",
       "      <td></td>\n",
       "    </tr>\n",
       "    <tr>\n",
       "      <th>55505</th>\n",
       "      <td>00894</td>\n",
       "      <td>841595</td>\n",
       "      <td>MAIN</td>\n",
       "      <td>Nitroglycerin SL</td>\n",
       "      <td>Nitroglycerin SL</td>\n",
       "      <td>0.3MG SL TAB</td>\n",
       "      <td></td>\n",
       "      <td>0.3</td>\n",
       "      <td>mg</td>\n",
       "      <td>1</td>\n",
       "      <td>TAB</td>\n",
       "      <td></td>\n",
       "      <td></td>\n",
       "      <td></td>\n",
       "    </tr>\n",
       "    <tr>\n",
       "      <th>60186</th>\n",
       "      <td>00952</td>\n",
       "      <td>322822</td>\n",
       "      <td>MAIN</td>\n",
       "      <td>Nitroglycerin Oint. 2%</td>\n",
       "      <td>Nitroglycerin Oint. 2%</td>\n",
       "      <td>30GM TUBE</td>\n",
       "      <td>OINT</td>\n",
       "      <td>1</td>\n",
       "      <td>in</td>\n",
       "      <td>0.01</td>\n",
       "      <td>TUBE</td>\n",
       "      <td>100</td>\n",
       "      <td>in</td>\n",
       "      <td></td>\n",
       "    </tr>\n",
       "    <tr>\n",
       "      <th>60208</th>\n",
       "      <td>00952</td>\n",
       "      <td>332390</td>\n",
       "      <td>MAIN</td>\n",
       "      <td>Nitroglycerin SL</td>\n",
       "      <td>Nitroglycerin SL</td>\n",
       "      <td>0.3MG SL TAB</td>\n",
       "      <td>TAB</td>\n",
       "      <td>0.3</td>\n",
       "      <td>mg</td>\n",
       "      <td>1</td>\n",
       "      <td>TAB</td>\n",
       "      <td>.30000001</td>\n",
       "      <td>mg</td>\n",
       "      <td></td>\n",
       "    </tr>\n",
       "    <tr>\n",
       "      <th>60218</th>\n",
       "      <td>00952</td>\n",
       "      <td>333130</td>\n",
       "      <td>MAIN</td>\n",
       "      <td>Nitroglycerin SL</td>\n",
       "      <td>Nitroglycerin SL</td>\n",
       "      <td>0.3MG SL TAB</td>\n",
       "      <td>TAB</td>\n",
       "      <td>0.3</td>\n",
       "      <td>mg</td>\n",
       "      <td>1</td>\n",
       "      <td>TAB</td>\n",
       "      <td>.30000001</td>\n",
       "      <td>mg</td>\n",
       "      <td></td>\n",
       "    </tr>\n",
       "  </tbody>\n",
       "</table>\n",
       "</div>"
      ],
      "text/plain": [
       "      DIR_NAME   POE_ID DRUG_TYPE               DRUG_NAME  \\\n",
       "11692    00177  1011023      MAIN        Nitroglycerin SL   \n",
       "11693    00177  1011024      MAIN  Nitroglycerin Oint. 2%   \n",
       "20836    00328    93149      MAIN        Nitroglycerin SL   \n",
       "23440    00368   663618      MAIN        Nitroglycerin SL   \n",
       "27612    00427   345299      MAIN        Nitroglycerin SL   \n",
       "31967    00491   429759      MAIN        Nitroglycerin SL   \n",
       "42230    00682  1647112      MAIN  Nitroglycerin Oint. 2%   \n",
       "43537    00703   534862      MAIN        Nitroglycerin SL   \n",
       "50704    00801  4043858      MAIN        Nitroglycerin SL   \n",
       "55505    00894   841595      MAIN        Nitroglycerin SL   \n",
       "60186    00952   322822      MAIN  Nitroglycerin Oint. 2%   \n",
       "60208    00952   332390      MAIN        Nitroglycerin SL   \n",
       "60218    00952   333130      MAIN        Nitroglycerin SL   \n",
       "\n",
       "            DRUG_NAME_GENERIC           PROD_STRENGTH FORM_RX DOSE_VAL_RX  \\\n",
       "11692        Nitroglycerin SL            0.4MG SL TAB                 0.4   \n",
       "11693  Nitroglycerin Oint. 2%                30g Tube                   1   \n",
       "20836        Nitroglycerin SL            0.3MG SL TAB     TAB         0.3   \n",
       "23440        Nitroglycerin SL            0.3MG SL TAB                 0.3   \n",
       "27612        Nitroglycerin SL            0.3MG SL TAB     TAB         0.3   \n",
       "31967        Nitroglycerin SL            0.3MG SL TAB     TAB         0.3   \n",
       "42230  Nitroglycerin Oint. 2%             1 gm Packet                   1   \n",
       "43537        Nitroglycerin SL            0.3MG SL TAB     TAB         0.3   \n",
       "50704        Nitroglycerin SL  0.3mg SL Tablet Bottle                 0.3   \n",
       "55505        Nitroglycerin SL            0.3MG SL TAB                 0.3   \n",
       "60186  Nitroglycerin Oint. 2%               30GM TUBE    OINT           1   \n",
       "60208        Nitroglycerin SL            0.3MG SL TAB     TAB         0.3   \n",
       "60218        Nitroglycerin SL            0.3MG SL TAB     TAB         0.3   \n",
       "\n",
       "      DOSE_UNIT_RX FORM_VAL_DISP FORM_UNIT_DISP       DOSE_VAL_DISP  \\\n",
       "11692           mg             1            TAB                       \n",
       "11693           in          0.01           TUBE                       \n",
       "20836           mg             1            TAB  .30000001192092896   \n",
       "23440           mg             1            TAB                       \n",
       "27612           mg             1            TAB           .30000001   \n",
       "31967           mg             1            TAB           .30000001   \n",
       "42230           in             1            PKT                       \n",
       "43537           mg             1            TAB           .30000001   \n",
       "50704           mg             1            TAB                       \n",
       "55505           mg             1            TAB                       \n",
       "60186           in          0.01           TUBE                 100   \n",
       "60208           mg             1            TAB           .30000001   \n",
       "60218           mg             1            TAB           .30000001   \n",
       "\n",
       "      DOSE_UNIT_DISP DOSE_RANGE_OVERRIDE  \n",
       "11692                                     \n",
       "11693                                     \n",
       "20836             mg                      \n",
       "23440                                     \n",
       "27612             mg                      \n",
       "31967             mg                      \n",
       "42230                                     \n",
       "43537             mg                      \n",
       "50704                                     \n",
       "55505                                     \n",
       "60186             in                      \n",
       "60208             mg                      \n",
       "60218             mg                      "
      ]
     },
     "execution_count": 10,
     "metadata": {},
     "output_type": "execute_result"
    }
   ],
   "source": [
    "df_vasodilator[df_vasodilator.DIR_NAME.isin(matched_waveform_codes)]"
   ]
  },
  {
   "cell_type": "markdown",
   "metadata": {},
   "source": [
    "### Example code to generate waveform output for record 00177\n",
    "\n",
    "You'll need to install [WFDB software](https://physionet.org/physiotools/wfdb-linux-quick-start.shtml) in order to call these functions. I just created a VM using the Vagrantfile in current directory."
   ]
  },
  {
   "cell_type": "markdown",
   "metadata": {
    "collapsed": true
   },
   "source": [
    "    rdsamp -r mimic2wdb/matched/s00177/s00177-3299-12-03-12-35 -c -H -f 0 -t 60 -v -pd > 00177_samples.csv"
   ]
  },
  {
   "cell_type": "code",
   "execution_count": 11,
   "metadata": {
    "collapsed": true
   },
   "outputs": [],
   "source": [
    "df_samples_00177 = pd.read_csv('./data/00177_samples.csv')"
   ]
  },
  {
   "cell_type": "code",
   "execution_count": 12,
   "metadata": {
    "collapsed": false
   },
   "outputs": [],
   "source": [
    "df_samples_00177.columns = ['time_date', 'II', 'MCL1', 'ABP']"
   ]
  },
  {
   "cell_type": "code",
   "execution_count": 13,
   "metadata": {
    "collapsed": false
   },
   "outputs": [
    {
     "data": {
      "text/html": [
       "<div>\n",
       "<table border=\"1\" class=\"dataframe\">\n",
       "  <thead>\n",
       "    <tr style=\"text-align: right;\">\n",
       "      <th></th>\n",
       "      <th>time_date</th>\n",
       "      <th>II</th>\n",
       "      <th>MCL1</th>\n",
       "      <th>ABP</th>\n",
       "    </tr>\n",
       "  </thead>\n",
       "  <tbody>\n",
       "    <tr>\n",
       "      <th>0</th>\n",
       "      <td>'hh:mm:ss.mmm dd/mm/yyyy'</td>\n",
       "      <td>'mV'</td>\n",
       "      <td>'mV'</td>\n",
       "      <td>'mmHg'</td>\n",
       "    </tr>\n",
       "    <tr>\n",
       "      <th>1</th>\n",
       "      <td>'[12:35:33.833 03/12/3299]'</td>\n",
       "      <td>-0.053</td>\n",
       "      <td>-0.053</td>\n",
       "      <td>68.000</td>\n",
       "    </tr>\n",
       "    <tr>\n",
       "      <th>2</th>\n",
       "      <td>'[12:35:33.841 03/12/3299]'</td>\n",
       "      <td>-0.053</td>\n",
       "      <td>-0.053</td>\n",
       "      <td>68.000</td>\n",
       "    </tr>\n",
       "    <tr>\n",
       "      <th>3</th>\n",
       "      <td>'[12:35:33.849 03/12/3299]'</td>\n",
       "      <td>-0.039</td>\n",
       "      <td>-0.053</td>\n",
       "      <td>67.200</td>\n",
       "    </tr>\n",
       "    <tr>\n",
       "      <th>4</th>\n",
       "      <td>'[12:35:33.857 03/12/3299]'</td>\n",
       "      <td>-0.039</td>\n",
       "      <td>-0.053</td>\n",
       "      <td>67.200</td>\n",
       "    </tr>\n",
       "  </tbody>\n",
       "</table>\n",
       "</div>"
      ],
      "text/plain": [
       "                     time_date      II    MCL1     ABP\n",
       "0    'hh:mm:ss.mmm dd/mm/yyyy'    'mV'    'mV'  'mmHg'\n",
       "1  '[12:35:33.833 03/12/3299]'  -0.053  -0.053  68.000\n",
       "2  '[12:35:33.841 03/12/3299]'  -0.053  -0.053  68.000\n",
       "3  '[12:35:33.849 03/12/3299]'  -0.039  -0.053  67.200\n",
       "4  '[12:35:33.857 03/12/3299]'  -0.039  -0.053  67.200"
      ]
     },
     "execution_count": 13,
     "metadata": {},
     "output_type": "execute_result"
    }
   ],
   "source": [
    "df_samples_00177.head()"
   ]
  },
  {
   "cell_type": "code",
   "execution_count": 14,
   "metadata": {
    "collapsed": false
   },
   "outputs": [],
   "source": [
    "df_samples_00177 = df_samples_00177.loc[1:].reset_index(drop=True)"
   ]
  },
  {
   "cell_type": "code",
   "execution_count": 15,
   "metadata": {
    "collapsed": false
   },
   "outputs": [],
   "source": [
    "df_samples_00177.time_date = df_samples_00177.time_date.apply(lambda x: datetime.datetime.strptime(x, \"\\'[%H:%M:%S.%f %m/%d/%Y]\\'\"))"
   ]
  },
  {
   "cell_type": "code",
   "execution_count": 16,
   "metadata": {
    "collapsed": false
   },
   "outputs": [],
   "source": [
    "df_samples_00177.ABP = df_samples_00177.ABP.astype('float')\n",
    "df_samples_00177.II = df_samples_00177.II.astype('float')\n",
    "df_samples_00177.MCL1 = df_samples_00177.MCL1.astype('float')"
   ]
  },
  {
   "cell_type": "code",
   "execution_count": 17,
   "metadata": {
    "collapsed": false
   },
   "outputs": [],
   "source": [
    "# rewrite year to 2000 b/c pandas complained\n",
    "df_samples_00177.index = df_samples_00177.time_date.apply(lambda x: x.replace(year=2000))"
   ]
  },
  {
   "cell_type": "code",
   "execution_count": 18,
   "metadata": {
    "collapsed": false
   },
   "outputs": [
    {
     "data": {
      "text/html": [
       "<div>\n",
       "<table border=\"1\" class=\"dataframe\">\n",
       "  <thead>\n",
       "    <tr style=\"text-align: right;\">\n",
       "      <th></th>\n",
       "      <th>time_date</th>\n",
       "      <th>II</th>\n",
       "      <th>MCL1</th>\n",
       "      <th>ABP</th>\n",
       "    </tr>\n",
       "    <tr>\n",
       "      <th>time_date</th>\n",
       "      <th></th>\n",
       "      <th></th>\n",
       "      <th></th>\n",
       "      <th></th>\n",
       "    </tr>\n",
       "  </thead>\n",
       "  <tbody>\n",
       "    <tr>\n",
       "      <th>2000-03-12 12:35:33.833</th>\n",
       "      <td>3299-03-12 12:35:33.833000</td>\n",
       "      <td>-0.053</td>\n",
       "      <td>-0.053</td>\n",
       "      <td>68.0</td>\n",
       "    </tr>\n",
       "    <tr>\n",
       "      <th>2000-03-12 12:35:33.841</th>\n",
       "      <td>3299-03-12 12:35:33.841000</td>\n",
       "      <td>-0.053</td>\n",
       "      <td>-0.053</td>\n",
       "      <td>68.0</td>\n",
       "    </tr>\n",
       "    <tr>\n",
       "      <th>2000-03-12 12:35:33.849</th>\n",
       "      <td>3299-03-12 12:35:33.849000</td>\n",
       "      <td>-0.039</td>\n",
       "      <td>-0.053</td>\n",
       "      <td>67.2</td>\n",
       "    </tr>\n",
       "    <tr>\n",
       "      <th>2000-03-12 12:35:33.857</th>\n",
       "      <td>3299-03-12 12:35:33.857000</td>\n",
       "      <td>-0.039</td>\n",
       "      <td>-0.053</td>\n",
       "      <td>67.2</td>\n",
       "    </tr>\n",
       "    <tr>\n",
       "      <th>2000-03-12 12:35:33.865</th>\n",
       "      <td>3299-03-12 12:35:33.865000</td>\n",
       "      <td>-0.053</td>\n",
       "      <td>-0.053</td>\n",
       "      <td>66.4</td>\n",
       "    </tr>\n",
       "  </tbody>\n",
       "</table>\n",
       "</div>"
      ],
      "text/plain": [
       "                                          time_date     II   MCL1   ABP\n",
       "time_date                                                              \n",
       "2000-03-12 12:35:33.833  3299-03-12 12:35:33.833000 -0.053 -0.053  68.0\n",
       "2000-03-12 12:35:33.841  3299-03-12 12:35:33.841000 -0.053 -0.053  68.0\n",
       "2000-03-12 12:35:33.849  3299-03-12 12:35:33.849000 -0.039 -0.053  67.2\n",
       "2000-03-12 12:35:33.857  3299-03-12 12:35:33.857000 -0.039 -0.053  67.2\n",
       "2000-03-12 12:35:33.865  3299-03-12 12:35:33.865000 -0.053 -0.053  66.4"
      ]
     },
     "execution_count": 18,
     "metadata": {},
     "output_type": "execute_result"
    }
   ],
   "source": [
    "df_samples_00177.head()"
   ]
  },
  {
   "cell_type": "code",
   "execution_count": 19,
   "metadata": {
    "collapsed": false
   },
   "outputs": [
    {
     "data": {
      "text/plain": [
       "<matplotlib.axes._subplots.AxesSubplot at 0x126b4afd0>"
      ]
     },
     "execution_count": 19,
     "metadata": {},
     "output_type": "execute_result"
    },
    {
     "data": {
      "image/png": "[encoded data removed]",
      "text/plain": [
       "<matplotlib.figure.Figure at 0x126b4bc18>"
      ]
     },
     "metadata": {},
     "output_type": "display_data"
    }
   ],
   "source": [
    "df_samples_00177.ABP.plot(figsize=(14,6))"
   ]
  }
 ],
 "metadata": {
  "kernelspec": {
   "display_name": "Python 3",
   "language": "python",
   "name": "python3"
  },
  "language_info": {
   "codemirror_mode": {
    "name": "ipython",
    "version": 3
   },
   "file_extension": ".py",
   "mimetype": "text/x-python",
   "name": "python",
   "nbconvert_exporter": "python",
   "pygments_lexer": "ipython3",
   "version": "3.4.2"
  }
 },
 "nbformat": 4,
 "nbformat_minor": 0
}
